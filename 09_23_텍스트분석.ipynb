{
  "nbformat": 4,
  "nbformat_minor": 0,
  "metadata": {
    "colab": {
      "private_outputs": true,
      "provenance": [],
      "authorship_tag": "ABX9TyOGmDFtaTfadJw+2IcjT1x0",
      "include_colab_link": true
    },
    "kernelspec": {
      "name": "python3",
      "display_name": "Python 3"
    },
    "language_info": {
      "name": "python"
    }
  },
  "cells": [
    {
      "cell_type": "markdown",
      "metadata": {
        "id": "view-in-github",
        "colab_type": "text"
      },
      "source": [
        "<a href=\"https://colab.research.google.com/github/zi-onion/24-2-ESAA/blob/main/09_23_%ED%85%8D%EC%8A%A4%ED%8A%B8%EB%B6%84%EC%84%9D.ipynb\" target=\"_parent\"><img src=\"https://colab.research.google.com/assets/colab-badge.svg\" alt=\"Open In Colab\"/></a>"
      ]
    },
    {
      "cell_type": "markdown",
      "source": [
        "# CH8. 텍스트 분석\n",
        "\n",
        "- **텍스트 분류(Text Classification)**: Text Categorization이라고도 합니다. 문서가 특정 분류 또는 카테고리에 속하는 것을 예측하는 기법을 통칭합니다. 예를 들어 특정 신문 기사 내용이 연예/정치/사회/문화 중 어떤 카테고리에 속하는지 자동으로 분류하거나 스팸 메일 검출 같은 프로그램이 이에 속합니다. 지도학습을 적용합니다.\n",
        "- **감성 분석(Sentiment Analysis)**： 텍스트에서 나타나는 감정/판단/믿음/의견/기분 등의 주관적인 요소를 분석하는 기법\n",
        "을 총칭합니다.소셜 미디어 감정 분석, 영화나 제품에 대한 긍정 또는 리뷰, 여론조사 의견 분석 등의 다양한 영역에서 활\n",
        "용됩니다. Text Analytics에서 가장 활발하게 사용되고 있는 분야입니다. 지도학습 방법뿐만 아니라 비지도학습을 이용해\n",
        "적용할 수 있습니다.\n",
        "- **텍스트 요약(Summarization)**： 텍스트 내에서 중요한 주제나 중심 사상을 추출하는 기법을 말합니다. 대표적으로 토픽 델링(Topic Modeling)이 있습니다.\n",
        "- **텍스트 군집화(Clustering)와 유사도 측정**:\n",
        "비슷한 유형의 문서에 대해 군집화를 수행하는 기법을 말합니다.\n",
        "텍스트 분류를 비지도학습으로 수행하는 방법의 일환으로 사용될 수 있습니다.\n",
        "유사도 측정 역시 문서들간의 유사도를 측정해 비슷한\n",
        "문서끼리 모을 수 있는 방법입니다."
      ],
      "metadata": {
        "id": "IRbBz7CppX4S"
      }
    },
    {
      "cell_type": "markdown",
      "source": [
        "## 01 텍스트 분석 이해\n",
        "\n",
        "### 텍스트 분석 수행 프로세스\n",
        "머신러닝 기반의 텍스트 분석 프로세스는 다음과 같은 프로세스 순으로 수행합니다.\n",
        "1. **텍스트 사전 준비작업 (텍스트 전처리)**:텍스트를 피처로 만들기 전에 미리 클렌징, 대/소문자 변경, 특수문자 삭제\n",
        "등의 클렌징 작업, 단어(Word) 등의 토큰화 작업, 의미 없는 단어(Stop word) 제거 작업, 어근 추출(Stemming/Lemmatization) 등의 텍스트 정규화 작업을 수행하는 것을 통칭합니다.\n",
        "2. **피처 벡터화/추출**:\n",
        "사전 준비 작업으로 가공된 텍스트에서 피처를 추출하고 여기에 벡터 값을 할당합니다. 대표적인 방법은 BOW와 Word2Vec이 있으며, BOW는 대표적으로 Count 기반과 TFHDF 기반 벡터화가 있습니다.\n",
        "3. **ML 모델 수립 및 학습/예측/평가**:\n",
        "피처 벡터화된 데이터 세트에 ML 모델을 적용해 학습/예측 및 평가를 수행합니다.\n",
        "\n",
        "\n",
        "\n",
        "### 파이썬 기반의 NLP, 텍스트 분석 패키지\n",
        "- NLTK(Natural Language Toolkit for Python)： 파이썬의 가장 대표적인 NLP 패키지입니다. 방대한 데이터 세트와 서브 모듈을 가지고 있으며 NLP의 거의 모든 영역을 커버하고 있습니다. 많은 NLP 패키지가 NLTK의 영향을 받아 작성되고 있습니다. 수행 속도 측면에서 아쉬운 부분이 있어서 실제 대량의 데이터 기반에서는 제대로 활용되지 못히고 있습니다.\n",
        "\n",
        "- Gensim： 토픽 모델링 분야에서 가장 두각을 나타내는 패키지입니다. 오래전부터 토픽 모델링을 쉽게 구현할 수 있는 가능을 제공해 왔으며, Word2Vec 구현 등의 다양한 신기능도 제공합니다. SpaCy와 함께 가장 많이 사용되는 NLP 패키지입니다.\n",
        "\n",
        "- SpaCy： 뛰어난 수행 성능으로 최근 가장 주목을 받는 NLP 패키지입니다.많은 NLP 애플리케이션에서 SpaCy를 사용하\n",
        "는 사례가 늘고 있습니다."
      ],
      "metadata": {
        "id": "AlNEpM54psz1"
      }
    },
    {
      "cell_type": "markdown",
      "source": [
        "## 02 텍스트 사전 준비 작업(텍스트 전처리) - 텍스트 정규화\n",
        "- 클렌징 (Cleansing)\n",
        "- 토큰화(Tokenization)\n",
        "- 필터링/스톱워드제거/철자수정\n",
        "- Stemming\n",
        "- Lemmatization\n",
        "\n",
        "\n",
        "### 클렌징\n",
        "텍스트에서 분석에 오히려 방해가 되는 불필요한 문자, 기호 등을 사전에 제거하는 작업\n",
        "\n",
        "### 텍스트 토큰화\n",
        "문서에서 문장을 분리하는 **문장 토큰화**\n",
        "\n",
        "\n",
        "\n"
      ],
      "metadata": {
        "id": "9RvBg2NOpwqD"
      }
    },
    {
      "cell_type": "code",
      "execution_count": null,
      "metadata": {
        "id": "qB55gXJDUwLl"
      },
      "outputs": [],
      "source": [
        "from nltk import sent_tokenize\n",
        "import nltk\n",
        "nltk.download('punkt')\n",
        "text_sample = 'The Matrix is everywhere its all around us, here even in this room. \\\n",
        "You can see it out your window or on your television. \\\n",
        "You feel it when you go to work, or go to church or pay your taxes.'\n",
        "sentences = sent_tokenize(text=text_sample)\n",
        "print(type(sentences), len(sentences))\n",
        "print(sentences)"
      ]
    },
    {
      "cell_type": "markdown",
      "source": [
        "문장에서 단어를 토큰으로 분리하는 **단어 토큰화**"
      ],
      "metadata": {
        "id": "VqGIhocFuBzv"
      }
    },
    {
      "cell_type": "code",
      "source": [
        "from nltk import word_tokenize\n",
        "\n",
        "sentence = \"The Matrix is everywhere its all around us, here even in this room.\"\n",
        "words = word_tokenize(sentence)\n",
        "print(type(words), len(words))\n",
        "print(words)"
      ],
      "metadata": {
        "id": "PimNbvN-U1un"
      },
      "execution_count": null,
      "outputs": []
    },
    {
      "cell_type": "code",
      "source": [
        "#모든 단어를 토큰화하기\n",
        "\n",
        "from nltk import word_tokenize, sent_tokenize\n",
        "# 여러 개의 문장으로 된 입력 데이터를 문장별로 단어 토큰화하게 만드는 함수 생성\n",
        "def tokenize_text(text):\n",
        "\n",
        "  # 문장별로 분리 토큰\n",
        "  sentences = sent_tokenize(text)\n",
        "  # 분리된 문장별 단어 토큰화\n",
        "  word_tokens = [word_tokenize(sentence) for sentence in sentences]\n",
        "  return word_tokens\n",
        "\n",
        "#여러 문장에 대해 문장별 단어 토큰화 수행.\n",
        "word_tokens = tokenize_text(text_sample)\n",
        "print(type(word_tokens), len(word_tokens))\n",
        "print(word_tokens)"
      ],
      "metadata": {
        "id": "KMTv7OpAU5dT"
      },
      "execution_count": null,
      "outputs": []
    },
    {
      "cell_type": "markdown",
      "source": [
        "\n",
        "### 스톱 워드 제거\n",
        "**스톱 워드** : 분석에 큰 의미가 없는 단어</br>\n",
        "문장을 구성하는데 필수적이지만, 큰 의미가 없는 단어로 is, the, a 등이 될 수 있다."
      ],
      "metadata": {
        "id": "Ixs0wzv8U8YN"
      }
    },
    {
      "cell_type": "code",
      "source": [
        "import nltk\n",
        "nltk.download('stopwords')"
      ],
      "metadata": {
        "id": "2T8MY8oAU_HU"
      },
      "execution_count": null,
      "outputs": []
    },
    {
      "cell_type": "code",
      "source": [
        "print('영어 stop words 개수:', len(nltk.corpus.stopwords.words('english')))\n",
        "print(nltk.corpus.stopwords.words('english')[:20])"
      ],
      "metadata": {
        "id": "ZVietWemVBXN"
      },
      "execution_count": null,
      "outputs": []
    },
    {
      "cell_type": "code",
      "source": [
        "import nltk\n",
        "\n",
        "stopwords = nltk.corpus.stopwords.words('english')\n",
        "all_tokens = []\n",
        "# 위 예제에서 3개의 문장별로 얻은 word_tokens list에 대해 스톱 워드를 제거하는 반복문\n",
        "for sentence in word_tokens:\n",
        "  filtered_words=[]\n",
        "# 개별 문장별로 토큰화된 문장 list에 대해 스톱 워드를 제거하는 반복문\n",
        "for word in sentence:\n",
        "  # 소문자로 모두 변환합니다.\n",
        "  word = word.lower()\n",
        "  # 토큰화된 개별 단어가 스톱 워드의 단어에 포함되지 않으면 word_tokens에 추가\n",
        "  if word not in stopwords:\n",
        "      filtered_words.append(word)\n",
        "  all_tokens.append(filtered_words)\n",
        "\n",
        "print(all_tokens)"
      ],
      "metadata": {
        "id": "KbJq0cMAVC1M"
      },
      "execution_count": null,
      "outputs": []
    },
    {
      "cell_type": "markdown",
      "source": [
        "### Stemming과 Lemmatization</br>\n",
        ": 문법적 또는 의미적으로 변화하는 단어의 원형을 찾는 것.</br>\n",
        "- Lemmatization이 Stemming보다 정교하며 의미론적인 기반에서의 단어의 원형을 찾는다\n",
        "- NLTK가 제공하는 Stemer : Porter, Lancaster, Snowball Stemmer\n",
        "- NLTK가 제공하는 Lemmatization : WordNetLemmatizer\n",
        "\n",
        "\n"
      ],
      "metadata": {
        "id": "SYrStNKMVF1O"
      }
    },
    {
      "cell_type": "code",
      "source": [
        "from nltk.stem import LancasterStemmer\n",
        "stemmer = LancasterStemmer()\n",
        "\n",
        "print(stemmer.stem('working'), stemmer.stem('works'), stemmer.stem('worked'))\n",
        "print(stemmer.stem('amusing'), stemmer.stem('amuses'), stemmer.stem('amused'))\n",
        "print(stemmer.stem('happier'), stemmer.stem('happiest'))\n",
        "print(stemmer.stem('fancier'), stemmer.stem('fanciest'))"
      ],
      "metadata": {
        "id": "CgSSLWTPVEsu"
      },
      "execution_count": null,
      "outputs": []
    },
    {
      "cell_type": "code",
      "source": [
        "from nltk.stem import WordNetLemmatizer\n",
        "import nltk\n",
        "nltk.download('wordnet')\n",
        "\n",
        "lemma = WordNetLemmatizer()\n",
        "print(lemma.lemmatize('amusing', 'v'), lemma.lemmatize('amuses', 'v'), lemma.lemmatize('amused', 'v'))\n",
        "print(lemma.lemmatize('happier', 'a'), lemma.lemmatize('happiest', 'a'))\n",
        "print(lemma.lemmatize('fancier', 'a'), lemma.lemmatize('fanciest', 'a'))"
      ],
      "metadata": {
        "id": "dCmXwgGWVIpf"
      },
      "execution_count": null,
      "outputs": []
    },
    {
      "cell_type": "markdown",
      "source": [
        "## 03 Bag of Words - BOW\n",
        " : 문서가 가지는 모든 단어를 문맥이나 순서를 무시하고 일괄적으로 단어에 대한 빈도 값을 부여해 피처 값을 추출</br>\n",
        "\n",
        "\n",
        " BOW의 단점 :\n",
        "  - 문맥 의미 반영 부족 : 단어 순서를 고려하지 않기 때문에 발생\n",
        "  - 희소 행렬 문제"
      ],
      "metadata": {
        "id": "B-4-8oMGVKvr"
      }
    },
    {
      "cell_type": "markdown",
      "source": [
        "### BOW 피처 백터화 </br>\n",
        " : 머신 러닝 알고리즘은 일반적으로 피처를 데이터로 입력받아 동작하기 때문에 텍스트와 같은 데이터는 머신러닝 알고리즘에 바로 입력할 수가 없다.</br>\n",
        "텍스트는 특정 의미를 가지는 숫자형 값인 벡터 값으로 변환해야 하는데, 이러한 변환을 피처 백터화라고 한다.</br>\n",
        "  - 카운트 기반의 백터화\n",
        "  - TF - IDF(Term Frequency - Inverse Document Frequency) 기반의 백터화"
      ],
      "metadata": {
        "id": "J9kLVQsZCNVY"
      }
    },
    {
      "cell_type": "markdown",
      "source": [
        "### 사이킷런의 Count 및 TF-IDF 백터화 구현 : CountVectorizer, Tfid"
      ],
      "metadata": {
        "id": "n79kTuKKC63o"
      }
    },
    {
      "cell_type": "markdown",
      "source": [
        "### BOW 백터화를 위한 희소 행렬"
      ],
      "metadata": {
        "id": "Cwd0uH0kD1PU"
      }
    },
    {
      "cell_type": "markdown",
      "source": [
        "### 최소 행렬 - COO 형식"
      ],
      "metadata": {
        "id": "LpFYDvg0D1MX"
      }
    },
    {
      "cell_type": "code",
      "source": [
        "import numpy as np\n",
        "\n",
        "dense = np.array( [ [3, 0, 1 ], [0, 2, 0] ] )\n",
        "\n",
        "from scipy import sparse\n",
        "#0이 아닌 데이터 추출\n",
        "data = np.array([3, 1, 2])\n",
        "\n",
        "#행 위치와 열 위치를 각각 배열로 생성\n",
        "row_pos = np.array([0, 0, 1 ])\n",
        "col_pos = np.array([0, 2, 1])\n",
        "\n",
        "#sparse 패키지의 coo_matrix를 이용해 COO 형식으로 희소 행렬 생성\n",
        "sparse_coo = sparse.coo_matrix((data, (row_pos, col_pos)))"
      ],
      "metadata": {
        "id": "JchqWPWRVPRt"
      },
      "execution_count": null,
      "outputs": []
    },
    {
      "cell_type": "code",
      "source": [
        "sparse_coo.toarray()"
      ],
      "metadata": {
        "id": "ETlZVWYzVQh_"
      },
      "execution_count": null,
      "outputs": []
    },
    {
      "cell_type": "markdown",
      "source": [
        "### 희소 행렬 - CSR 형식"
      ],
      "metadata": {
        "id": "6An3APvsVSe7"
      }
    },
    {
      "cell_type": "code",
      "source": [
        "#2차원 배열\n",
        "[[0, 0, 1, 0, 0, 5], [1, 4, 0, 3, 2, 5], [0, 6, 0, 3, 0, 0], [2, 0, 0, 0, 0, 0], [0, 0, 0, 7, 0, 8], [1, 0, 0, 0, 0, 0]]"
      ],
      "metadata": {
        "id": "eQrVAyfcVSSl"
      },
      "execution_count": null,
      "outputs": []
    },
    {
      "cell_type": "code",
      "source": [
        "from scipy import sparse\n",
        "dense2 = np.array([[0, 0, 1, 0, 0, 5],\n",
        "                    [1, 4, 0, 3, 2, 5],\n",
        "                    [0, 6, 0, 3, 0, 0],\n",
        "                    [2, 0, 0, 0, 0, 0],\n",
        "                    [0, 0, 0, 7, 0, 8],\n",
        "                    [1, 0, 0, 0, 0, 0]])\n",
        "\n",
        "#0이 아닌 데이터 추출\n",
        "data2 = np.array([1, 5, 1, 4, 3, 2, 5, 6, 3, 2, 7, 8, 1 ])\n",
        "\n",
        "#행 위치와 열 위치를 각각 array로 생성\n",
        "row_pos = np.array([0, 0, 1, 1, 1, 1, 1, 2, 2, 3, 4, 4, 5])\n",
        "col_pos = np.array([2, 5, 0, 1, 3, 4, 5, 1, 3, 0, 3, 5, 0])\n",
        "\n",
        "#COO 형식으로 변환\n",
        "sparse_coo = sparse.coo_matrix((data2, (row_pos, col_pos)))\n",
        "\n",
        "#행 위치 배열의 고유한 값의 시작 위치 인덱스를 배열로 생성\n",
        "row_pos_ind = np.array([0, 2, 7, 9, 10, 12, 13])\n",
        "\n",
        "#CSR 형식으로 변환\n",
        "sparse_csr = sparse.csr_matrix((data2, col_pos, row_pos_ind))\n",
        "print('COO 변환된 데이터가 제대로 되었는지 다시 Dense로 출력 확인')\n",
        "print(sparse_coo.toarray())\n",
        "print('CSR 변환된 데이터가 제대로 되었는지 다시 Dense로 출력 확인')\n",
        "print(sparse_csr.toarray())"
      ],
      "metadata": {
        "id": "iV5z6T2CVT2r"
      },
      "execution_count": null,
      "outputs": []
    },
    {
      "cell_type": "code",
      "source": [
        "dense3 = np.array([[0, 0, 1, 0, 0, 5],\n",
        "                    [1, 4, 0, 3, 2, 5],\n",
        "                    [0, 6, 0, 3, 0, 0],\n",
        "                    [2, 0, 0, 0, 0, 0],\n",
        "                    [0, 0, 0, 7, 0, 8],\n",
        "                    [1, 0, 0, 0, 0, 0]])\n",
        "\n",
        "coo = sparse.coo_matrix(dense3)\n",
        "csr = sparse.csr_matrix(dense3)"
      ],
      "metadata": {
        "id": "Cml1dk5oVX__"
      },
      "execution_count": null,
      "outputs": []
    }
  ]
}